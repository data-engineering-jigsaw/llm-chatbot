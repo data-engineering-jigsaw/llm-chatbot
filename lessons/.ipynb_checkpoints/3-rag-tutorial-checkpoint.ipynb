{
 "cells": [
  {
   "cell_type": "markdown",
   "id": "9ea5a7fd-c03e-44eb-a4af-b84c8b4d76b2",
   "metadata": {},
   "source": [
    "# Rag"
   ]
  },
  {
   "cell_type": "markdown",
   "id": "1256fa50-0453-4253-bf22-38b4908d77a3",
   "metadata": {},
   "source": [
    "[Resources](https://github.com/openai/openai-cookbook/blob/main/examples/RAG_with_graph_db.ipynb)"
   ]
  },
  {
   "cell_type": "code",
   "execution_count": null,
   "id": "2c1d0def-2760-406e-b084-79922da0aa6a",
   "metadata": {},
   "outputs": [],
   "source": []
  }
 ],
 "metadata": {
  "kernelspec": {
   "display_name": "Python 3 (ipykernel)",
   "language": "python",
   "name": "python3"
  },
  "language_info": {
   "codemirror_mode": {
    "name": "ipython",
    "version": 3
   },
   "file_extension": ".py",
   "mimetype": "text/x-python",
   "name": "python",
   "nbconvert_exporter": "python",
   "pygments_lexer": "ipython3",
   "version": "3.10.13"
  }
 },
 "nbformat": 4,
 "nbformat_minor": 5
}
