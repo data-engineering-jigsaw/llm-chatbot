{
 "cells": [
  {
   "cell_type": "markdown",
   "id": "e213e55b-4869-4bf9-b615-73680f4d6ffb",
   "metadata": {},
   "source": [
    "# SEC Llamaindex"
   ]
  },
  {
   "cell_type": "markdown",
   "id": "249c61e7-8999-4532-b9ce-0151d68ae964",
   "metadata": {},
   "source": [
    "### Setting Up"
   ]
  },
  {
   "cell_type": "code",
   "execution_count": null,
   "id": "a751c00b-a070-434d-a69c-84e691c87fb5",
   "metadata": {},
   "outputs": [],
   "source": [
    "!pip install llama-index<0.6.0"
   ]
  },
  {
   "cell_type": "markdown",
   "id": "4af3007d-7c0f-4c4b-a438-dd0f786843fd",
   "metadata": {},
   "source": [
    "* Downloading the files"
   ]
  },
  {
   "cell_type": "code",
   "execution_count": null,
   "id": "d08cb12c-64a6-461f-b66e-178b1ca6e67e",
   "metadata": {},
   "outputs": [],
   "source": [
    "!mkdir data\n",
    "!wget https://www.dropbox.com/s/948jr9cfs7fgj99/UBER.zip?dl=1 -O data/UBER.zip\n",
    "!unzip data/UBER.zip -d data"
   ]
  },
  {
   "cell_type": "markdown",
   "id": "e78bb628-18b8-4d3a-9d39-85f244839892",
   "metadata": {},
   "source": [
    "* Use the model"
   ]
  },
  {
   "cell_type": "code",
   "execution_count": null,
   "id": "4ed7d284-0572-4dbe-89b3-844c055e5d71",
   "metadata": {},
   "outputs": [],
   "source": [
    "import os\n",
    "os.environ['OPENAI_API_KEY'] = \"\""
   ]
  },
  {
   "cell_type": "code",
   "execution_count": null,
   "id": "3edf8cb1-8c43-4570-8449-d06b81a9e0fd",
   "metadata": {},
   "outputs": [],
   "source": [
    "from llama_index import download_loader, GPTSimpleVectorIndex\n",
    "from pathlib import Path"
   ]
  },
  {
   "cell_type": "code",
   "execution_count": null,
   "id": "caf09226-fc4f-44df-abb2-f80d634f99d0",
   "metadata": {},
   "outputs": [],
   "source": [
    "UnstructuredReader = download_loader(\"UnstructuredReader\", refresh_cache=True)"
   ]
  },
  {
   "cell_type": "code",
   "execution_count": null,
   "id": "0fba95ae-3646-476f-865c-2ade08e5ffe4",
   "metadata": {},
   "outputs": [],
   "source": [
    "loader = UnstructuredReader()\n",
    "doc_set = {}\n",
    "all_docs = []\n",
    "years = [2022, 2021, 2020, 2019]\n",
    "for year in years:\n",
    "    year_docs = loader.load_data(file=Path(f'./data/UBER/UBER_{year}.html'), split_documents=False)\n",
    "    # insert year metadata into each year\n",
    "    for d in year_docs:\n",
    "        d.extra_info = {\"year\": year}\n",
    "    doc_set[year] = year_docs\n",
    "    all_docs.extend(year_docs)"
   ]
  },
  {
   "cell_type": "code",
   "execution_count": null,
   "id": "7ad4805c-ee9f-4660-8384-695cd920d7f8",
   "metadata": {},
   "outputs": [],
   "source": [
    "from llama_index import ServiceContext\n",
    "\n",
    "service_context = ServiceContext.from_defaults(chunk_size_limit=512)"
   ]
  },
  {
   "cell_type": "markdown",
   "id": "de46dacc-f3b1-43da-804f-2bc1c5e32e4a",
   "metadata": {},
   "source": [
    "### Index Various Filings"
   ]
  },
  {
   "cell_type": "markdown",
   "id": "e5bc837b-1a26-4d15-91ab-be1ffc07b61e",
   "metadata": {},
   "source": [
    "* Set up a separate vector index for each SEC filing from 2019-2022."
   ]
  },
  {
   "cell_type": "code",
   "execution_count": null,
   "id": "40bec3a2-9803-4fc5-bceb-ee7fa92aa2c8",
   "metadata": {},
   "outputs": [],
   "source": [
    "# initialize simple vector indices + global vector index\n",
    "# NOTE: don't run this cell if the indices are already loaded! \n",
    "index_set = {}\n",
    "for year in years:\n",
    "    cur_index = GPTSimpleVectorIndex.from_documents(doc_set[year], service_context=service_context)\n",
    "    index_set[year] = cur_index\n",
    "    cur_index.save_to_disk(f'index_{year}.json')"
   ]
  },
  {
   "cell_type": "markdown",
   "id": "bab5129a-0825-4ae2-844a-756c31cdc2bc",
   "metadata": {},
   "source": [
    "* Then load from disk"
   ]
  },
  {
   "cell_type": "code",
   "execution_count": null,
   "id": "832b1f90-a4ea-4f14-b2b0-067244be5ad2",
   "metadata": {},
   "outputs": [],
   "source": [
    "index_set = {}\n",
    "for year in years:\n",
    "    cur_index = GPTSimpleVectorIndex.load_from_disk(f'index_{year}.json', service_context=service_context)\n",
    "    index_set[year] = cur_index"
   ]
  },
  {
   "cell_type": "markdown",
   "id": "643e5160-e300-40e1-8ae7-2276fd5ed74e",
   "metadata": {},
   "source": [
    "* Then ask the question"
   ]
  },
  {
   "cell_type": "code",
   "execution_count": null,
   "id": "63554fd1-288d-4967-900c-710bbb3df049",
   "metadata": {},
   "outputs": [],
   "source": [
    "response = index_set[2020].query(\"What were some of the biggest risk factors in 2020?\", similarity_top_k=3)"
   ]
  },
  {
   "cell_type": "markdown",
   "id": "23fca3c6-4916-4d52-a827-cc09c8a05e1e",
   "metadata": {},
   "source": [
    "### Resources\n",
    "\n",
    "[10k Analysis](https://colab.research.google.com/drive/1uL1TdMbR4kqa0Ksrd_Of_jWSxWt1ia7o?usp=sharing#scrollTo=VzpGEMJsauHh)"
   ]
  },
  {
   "cell_type": "markdown",
   "id": "0d8a67af-940b-48be-8e8a-80441a0c7d1c",
   "metadata": {},
   "source": [
    "* See additonal features in the collab"
   ]
  },
  {
   "cell_type": "code",
   "execution_count": null,
   "id": "b3b55f64-9646-432a-b27c-e675bf490125",
   "metadata": {},
   "outputs": [],
   "source": []
  }
 ],
 "metadata": {
  "kernelspec": {
   "display_name": "Python 3 (ipykernel)",
   "language": "python",
   "name": "python3"
  },
  "language_info": {
   "codemirror_mode": {
    "name": "ipython",
    "version": 3
   },
   "file_extension": ".py",
   "mimetype": "text/x-python",
   "name": "python",
   "nbconvert_exporter": "python",
   "pygments_lexer": "ipython3",
   "version": "3.10.13"
  }
 },
 "nbformat": 4,
 "nbformat_minor": 5
}
