{
 "cells": [
  {
   "cell_type": "markdown",
   "id": "a8b91b39-6283-4747-a48c-695de3b5d20a",
   "metadata": {},
   "source": [
    "# LlamaIndex Setup"
   ]
  },
  {
   "cell_type": "markdown",
   "id": "32ea98e3-8525-4690-9424-7e497104d685",
   "metadata": {},
   "source": [
    "1. Download the climate report \n",
    "\n",
    "* `!wget https://www.ipcc.ch/report/ar6/wg2/downloads/report/IPCC_AR6_WGII_Chapter03.pdf`"
   ]
  },
  {
   "cell_type": "markdown",
   "id": "00b49342-733e-4f56-9e76-f514ad157f12",
   "metadata": {},
   "source": [
    "2. Download the model \n",
    "    * `!wget https://gpt4all.io/models/ggml-gpt4all-j-v1.3-groovy.bin`"
   ]
  },
  {
   "cell_type": "markdown",
   "id": "cc0a92ff-daf5-4d7c-a17b-dfef61150783",
   "metadata": {},
   "source": [
    "3. Download extra packages\n",
    "* `!pip install pymupdf pygpt4all sentence_transformers accelerate`"
   ]
  },
  {
   "cell_type": "markdown",
   "id": "94e1f81d-cf81-4a7b-8be2-459b112163d3",
   "metadata": {},
   "source": [
    "4. Then download llamaindex\n",
    "\n",
    "`!pip install -U git+https://github.com/jerryjliu/llama_index.git`"
   ]
  },
  {
   "cell_type": "markdown",
   "id": "0c895163-c346-4816-af22-bbe3eb120bf7",
   "metadata": {},
   "source": [
    "### Downloading "
   ]
  },
  {
   "cell_type": "markdown",
   "id": "ecee7bc2-86e5-4a6c-9315-9868d1d368a3",
   "metadata": {},
   "source": [
    "* PyMuPDFReader to quickly load all 172 pages of the climate report PDF. The metadata=True option will automatically set some helpful information like page numbers and filename,"
   ]
  },
  {
   "cell_type": "code",
   "execution_count": null,
   "id": "fda1c493-8638-490d-aa76-40636f210d48",
   "metadata": {},
   "outputs": [],
   "source": [
    "from llama_index import (\n",
    "    download_loader\n",
    ")"
   ]
  },
  {
   "cell_type": "code",
   "execution_count": null,
   "id": "d683c5df-e080-4365-a088-4ec6e1873b69",
   "metadata": {},
   "outputs": [],
   "source": [
    "PyMuPDFReader = download_loader(\"PyMuPDFReader\")"
   ]
  },
  {
   "cell_type": "code",
   "execution_count": null,
   "id": "5f7df604-f0b4-4dbc-aef6-77ff9fa73c14",
   "metadata": {},
   "outputs": [],
   "source": [
    "documents = PyMuPDFReader().load(file_path='./IPCC_AR6_WGII_Chapter03.pdf', metadata=True)\n",
    "\n",
    "# ensure document texts are not bytes objects\n",
    "for doc in documents:\n",
    "    doc.text = doc.text.decode()"
   ]
  },
  {
   "cell_type": "code",
   "execution_count": null,
   "id": "a32ac2ec-60bd-4092-9487-4b1cabfd9cff",
   "metadata": {},
   "outputs": [],
   "source": [
    "# print a document to test. Each document is a single page from the pdf, with appropriate metadata\n",
    "documents[10]"
   ]
  },
  {
   "cell_type": "markdown",
   "id": "8827399d-d2a7-4acb-b419-7eedcc83137c",
   "metadata": {},
   "source": [
    "2. Setup Model"
   ]
  },
  {
   "cell_type": "markdown",
   "id": "2d71b66f-91ef-4714-8c90-4cb920f39d2a",
   "metadata": {},
   "source": [
    "* So this references our gpt4all model"
   ]
  },
  {
   "cell_type": "code",
   "execution_count": null,
   "id": "b97e7e54-ea23-47c3-823c-c24b31e15576",
   "metadata": {},
   "outputs": [],
   "source": [
    "local_llm_path = './ggml-gpt4all-j-v1.3-groovy.bin'\n",
    "llm = GPT4All(model=local_llm_path, backend='gptj', streaming=True, n_ctx=512)\n",
    "llm_predictor = LLMPredictor(llm=llm)"
   ]
  },
  {
   "cell_type": "markdown",
   "id": "5fbd2e10-0f26-46aa-90d7-40a1404b00c2",
   "metadata": {},
   "source": [
    "And we need to embed the model."
   ]
  },
  {
   "cell_type": "code",
   "execution_count": null,
   "id": "018a85fb-ceed-4c3b-a4f2-ccdacc2a8110",
   "metadata": {},
   "outputs": [],
   "source": [
    "embed_model = LangchainEmbedding(HuggingFaceEmbeddings(model_name=\"sentence-transformers/all-mpnet-base-v2\"))"
   ]
  },
  {
   "cell_type": "markdown",
   "id": "e13af03f-ec97-4174-8315-6d3cbbff09a2",
   "metadata": {},
   "source": [
    "* From there, have the components setup "
   ]
  },
  {
   "cell_type": "code",
   "execution_count": null,
   "id": "c63d6782-80c7-467f-91fd-409e5d297154",
   "metadata": {},
   "outputs": [],
   "source": [
    "prompt_helper = PromptHelper(max_input_size=512, num_output=256, max_chunk_overlap=-1000)\n",
    "service_context = ServiceContext.from_defaults(\n",
    "    llm_predictor=llm_predictor,\n",
    "    embed_model=embed_model,\n",
    "    prompt_helper=prompt_helper,\n",
    "    node_parser=SimpleNodeParser(text_splitter=TokenTextSplitter(chunk_size=300, chunk_overlap=20))\n",
    ")"
   ]
  },
  {
   "cell_type": "markdown",
   "id": "63bab3cf-5126-4133-9da1-ffa105c6cf90",
   "metadata": {},
   "source": [
    "### Create the index"
   ]
  },
  {
   "cell_type": "markdown",
   "id": "ced288c2-6b9a-429c-b68b-4a064754475d",
   "metadata": {},
   "source": [
    "* break each document into nodes, and\n",
    "* create an embedding vector for each node using our embed_model. \n",
    "\n",
    "This may take a several minutes if running on CPU (this is a large climate report)!"
   ]
  },
  {
   "cell_type": "markdown",
   "id": "e79765ac-4685-4d25-b90b-2cb677b90553",
   "metadata": {},
   "source": [
    "### Resources\n",
    "\n",
    "* [llamaindex colab](https://colab.research.google.com/drive/16QMQePkONNlDpgiltOi7oRQgmB8dU5fl?usp=sharing#scrollTo=f323fb5a)"
   ]
  },
  {
   "cell_type": "code",
   "execution_count": null,
   "id": "a09f4648-bd56-4080-bccb-3422dc5c8ed7",
   "metadata": {},
   "outputs": [],
   "source": []
  }
 ],
 "metadata": {
  "kernelspec": {
   "display_name": "Python 3 (ipykernel)",
   "language": "python",
   "name": "python3"
  },
  "language_info": {
   "codemirror_mode": {
    "name": "ipython",
    "version": 3
   },
   "file_extension": ".py",
   "mimetype": "text/x-python",
   "name": "python",
   "nbconvert_exporter": "python",
   "pygments_lexer": "ipython3",
   "version": "3.10.13"
  }
 },
 "nbformat": 4,
 "nbformat_minor": 5
}
