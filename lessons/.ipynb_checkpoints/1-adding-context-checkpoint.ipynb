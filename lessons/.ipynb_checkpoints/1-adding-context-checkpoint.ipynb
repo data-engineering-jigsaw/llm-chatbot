{
 "cells": [
  {
   "cell_type": "markdown",
   "id": "7721b2a0-c860-4ced-aa0f-9d521af9520d",
   "metadata": {},
   "source": [
    "# Adding Context"
   ]
  },
  {
   "cell_type": "markdown",
   "id": "fa3104c3-658f-4378-b550-6390215512fe",
   "metadata": {},
   "source": [
    "### Introduction"
   ]
  },
  {
   "cell_type": "code",
   "execution_count": null,
   "id": "4fd0fe3b-00f3-417d-8ca3-0b05a1f7259b",
   "metadata": {},
   "outputs": [],
   "source": []
  }
 ],
 "metadata": {
  "kernelspec": {
   "display_name": "Python 3 (ipykernel)",
   "language": "python",
   "name": "python3"
  },
  "language_info": {
   "codemirror_mode": {
    "name": "ipython",
    "version": 3
   },
   "file_extension": ".py",
   "mimetype": "text/x-python",
   "name": "python",
   "nbconvert_exporter": "python",
   "pygments_lexer": "ipython3",
   "version": "3.10.13"
  }
 },
 "nbformat": 4,
 "nbformat_minor": 5
}
