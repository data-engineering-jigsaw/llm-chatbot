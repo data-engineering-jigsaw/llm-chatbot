{
 "cells": [
  {
   "cell_type": "markdown",
   "id": "25b2aa5c-1d08-4edd-ab8f-d39f4503c5d3",
   "metadata": {},
   "source": [
    "# Providing Context"
   ]
  },
  {
   "cell_type": "markdown",
   "id": "600fdf91-5b1f-4e3a-ae74-6b4540b2e6c2",
   "metadata": {},
   "source": [
    "### Introduction"
   ]
  },
  {
   "cell_type": "markdown",
   "id": "4c917212-ec77-4177-834f-46f6ae573c97",
   "metadata": {},
   "source": [
    "### Resources"
   ]
  },
  {
   "cell_type": "markdown",
   "id": "fa054395-6065-449f-86ce-db3ac3b85c56",
   "metadata": {},
   "source": [
    "[Web Embeddings OpenAI tutorial](https://platform.openai.com/docs/tutorials/web-qa-embeddings)"
   ]
  }
 ],
 "metadata": {
  "kernelspec": {
   "display_name": "Python 3 (ipykernel)",
   "language": "python",
   "name": "python3"
  },
  "language_info": {
   "codemirror_mode": {
    "name": "ipython",
    "version": 3
   },
   "file_extension": ".py",
   "mimetype": "text/x-python",
   "name": "python",
   "nbconvert_exporter": "python",
   "pygments_lexer": "ipython3",
   "version": "3.10.13"
  }
 },
 "nbformat": 4,
 "nbformat_minor": 5
}
