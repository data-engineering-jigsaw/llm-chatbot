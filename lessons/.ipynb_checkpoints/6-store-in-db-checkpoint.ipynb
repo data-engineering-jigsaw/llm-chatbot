{
 "cells": [
  {
   "cell_type": "code",
   "execution_count": null,
   "id": "c033dd89-2275-4d26-9b50-124dfe28d2b6",
   "metadata": {},
   "outputs": [],
   "source": []
  },
  {
   "cell_type": "markdown",
   "id": "01750831-9712-418b-9a70-d71b310b98d5",
   "metadata": {},
   "source": [
    "* Embed \n",
    "* Supabase - pgvector\n",
    "\n",
    "```sql\n",
    "create extension vector\n",
    "```\n",
    "\n",
    "```sql\n",
    "CREATE TABLE paul_graham (\n",
    "    id BIGSERIAL PRIMARY KEY,\n",
    "    essay_title TEXT,\n",
    "    essay_url TEXT,\n",
    "    essay_date TEXT,\n",
    "    content TEXT,\n",
    "    content_tokens BIGINT,\n",
    "    embedding VECTOR(1536)\n",
    ");\n",
    "```"
   ]
  },
  {
   "cell_type": "markdown",
   "id": "fbf129fc-e1c9-471a-905e-c578b78ddb33",
   "metadata": {},
   "source": [
    "```sql\n",
    "CREATE OR REPLACE FUNCTION paul_graham_search (\n",
    "    query_embedding VECTOR(1536),\n",
    "    similarity_threshold FLOAT,\n",
    "    match_count INT\n",
    ")\n",
    "RETURNS TABLE (\n",
    "    id BIGINT,\n",
    "    essay_title TEXT,\n",
    "    essay_url TEXT,\n",
    "    essay_date TEXT,\n",
    "    content TEXT,\n",
    "    content_tokens BIGINT,\n",
    "    similarity FLOAT\n",
    ")\n",
    "LANGUAGE plpgsql\n",
    "AS $$\n",
    "BEGIN\n",
    "    RETURN QUERY\n",
    "SELECT\n",
    "    paul_graham.id,\n",
    "    paul_graham.essay_title,\n",
    "    paul_graham.essay_url,\n",
    "    paul_graham.essay_date,\n",
    "    paul_graham.content,\n",
    "    paul_graham.content_tokens,\n",
    "    1 - (paul_graham.embedding <=> query_embedding) AS similarity\n",
    "FROM\n",
    "    paul_graham\n",
    "WHERE\n",
    "    1 - (paul_graham.embedding <=> query_embedding) > similarity_threshold\n",
    "ORDER BY\n",
    "    paul_graham.embedding <=> query_embedding\n",
    "LIMIT\n",
    "    match_count;\n",
    "END;\n",
    "$$;\n",
    "```\n",
    "\n"
   ]
  },
  {
   "cell_type": "markdown",
   "id": "578dc823-b208-4406-9799-f30a974e94eb",
   "metadata": {},
   "source": [
    "### Next up "
   ]
  },
  {
   "cell_type": "markdown",
   "id": "36ccec6d-2b43-4ba2-8558-9b3db62ef6d3",
   "metadata": {},
   "source": [
    "* After saving the text, we need to embed it, and upload it to supabase,or pinecone, etc."
   ]
  },
  {
   "cell_type": "markdown",
   "id": "a24a341e-0b8d-4e1c-baaf-2451efdfbadc",
   "metadata": {},
   "source": [
    "```javascript\n",
    "for (let i = 0; i < essays.length; i++) {\n",
    "    const essay = essays[i];\n",
    "    \n",
    "    for (let j = 0; j < essay.chunks.length; j++) {\n",
    "        const chunk = essay.chunks[j];\n",
    "        \n",
    "        const embeddingResponse = await openai.createEmbedding({\n",
    "            model: \"text-embedding-ada-002\",\n",
    "            input: chunk.content\n",
    "        });\n",
    "        \n",
    "        const { embedding } = embeddingResponse.data;\n",
    "        \n",
    "        const { data, error } = await supabase.from(\"paul_graham\").insert({\n",
    "            essay_title: chunk.essay_title,\n",
    "            essay_url: chunk.essay_url,\n",
    "            essay_date: chunk.essay_date,\n",
    "            content: chunk.content,\n",
    "            content_tokens: chunk.content_tokens,\n",
    "            embedding\n",
    "        });\n",
    "    }\n",
    "}\n",
    "```"
   ]
  },
  {
   "cell_type": "markdown",
   "id": "fc0986cb-5315-487e-ad56-fca3bc4bd830",
   "metadata": {},
   "source": [
    "# Search embedding"
   ]
  },
  {
   "cell_type": "markdown",
   "id": "b8d0e8ea-d99c-4bd1-871c-4bc69660c2f5",
   "metadata": {},
   "source": [
    "```javascript\n",
    "async function handler(req: Request): Promise<Response> {\n",
    "    try {\n",
    "        const { query } = await req.json() as { query: string };\n",
    "        \n",
    "        const response = await fetch(\"https://api.openai.com/v1/embeddings\", {\n",
    "            method: \"POST\",\n",
    "            headers: {\n",
    "                \"Content-Type\": \"application/json\",\n",
    "                \"Authorization\": `Bearer ${process.env.OPENAI_API_KEY}`\n",
    "            },\n",
    "            body: JSON.stringify({\n",
    "                model: \"text-embedding-ada-002\",\n",
    "                input: query\n",
    "            })\n",
    "        });\n",
    "\n",
    "        const json = await response.json();\n",
    "        const embedding = json.data[0].embedding;\n",
    "\n",
    "        // The rest of the handler function would likely go here, such as returning the embedding\n",
    "        // or handling it according to the needs of the application.\n",
    "        \n",
    "    } catch (error) {\n",
    "        // Error handling would go here, such as logging the error or returning an error response.\n",
    "    }\n",
    "}\n",
    "```"
   ]
  },
  {
   "cell_type": "markdown",
   "id": "0e78fcbb-3bbb-4fae-8406-94449ada0462",
   "metadata": {},
   "source": [
    "* Then get chunks from supabase"
   ]
  },
  {
   "cell_type": "markdown",
   "id": "a346e11b-b169-40fe-a2ab-501910237515",
   "metadata": {},
   "source": [
    "```javascript\n",
    "const json = await response.json();\n",
    "const embedding = json.data[0].embedding;\n",
    "\n",
    "const { data: chunks, error } = await supabaseAdmin.rpc(\"paul_graham_search\", {\n",
    "  query_embedding: embedding,\n",
    "  similarity_threshold: 0.5,\n",
    "  match_count: 5\n",
    "});\n",
    "\n",
    "if (error) {\n",
    "  console.log(error);\n",
    "  return new Response(\"Error\", { status: 500 });\n",
    "}\n",
    "\n",
    "return new Response(JSON.stringify(chunks), { status: 200 });\n",
    "```"
   ]
  },
  {
   "cell_type": "markdown",
   "id": "7120b162-f9f3-4a78-a2f4-0258c4ea1d37",
   "metadata": {},
   "source": [
    "* And feed to openai"
   ]
  },
  {
   "cell_type": "markdown",
   "id": "b1e992d6-52c4-409d-aee5-465a4d47fbf3",
   "metadata": {},
   "source": [
    "```javascript\n",
    "export const OpenAIAPIStream = async (prompt: string) => {\n",
    "    const response = await fetch(\"https://api.openai.com/v1/chat/completions\", {\n",
    "        method: \"POST\",\n",
    "        headers: {\n",
    "            \"Content-Type\": \"application/json\",\n",
    "            \"Authorization\": `Bearer ${process.env.OPENAI_API_KEY}`\n",
    "        },\n",
    "        body: JSON.stringify({\n",
    "            model: \"gpt-3.5\",\n",
    "            messages: [\n",
    "                {\n",
    "                    role: \"system\",\n",
    "                    content: \"You are a helpful assistant that answers queries about Paul Graham's essay. Response in 3-5 sentences.\"\n",
    "                },\n",
    "                {\n",
    "                    role: \"user\",\n",
    "                    content: prompt\n",
    "                },\n",
    "            ],\n",
    "            max_tokens: 150,\n",
    "            temperature: 0.0,\n",
    "            stream: true\n",
    "        })\n",
    "    });\n",
    "\n",
    "    // There may be additional code following this to handle the response, such as parsing the JSON\n",
    "    // and returning it to the caller, but it is not visible in the image provided.\n",
    "}\n",
    "```"
   ]
  },
  {
   "cell_type": "markdown",
   "id": "9d4e7402-3674-42ee-86f1-9e949c3966cf",
   "metadata": {},
   "source": [
    "### Resources\n",
    "\n",
    "[Mckay Wrigley Chatbot UI](https://www.youtube.com/watch?v=RM-v7zoYQo0&t=287s&ab_channel=MckayWrigley)"
   ]
  },
  {
   "cell_type": "markdown",
   "id": "3aac345e-f1e9-4eb2-8cf1-2c096c9fe2c0",
   "metadata": {},
   "source": [
    "[OpenAI tutorial](https://platform.openai.com/docs/tutorials/web-qa-embeddings)"
   ]
  },
  {
   "cell_type": "markdown",
   "id": "493489a8-8eea-4575-b66e-8b50f08f4468",
   "metadata": {},
   "source": [
    "[Pinecone](https://docs.pinecone.io/docs/quickstart)"
   ]
  },
  {
   "cell_type": "markdown",
   "id": "db789f54-0409-4553-a3e1-fa2fcca53e88",
   "metadata": {},
   "source": [
    "[Pinecone openai tutorial](https://docs.pinecone.io/docs/openai)"
   ]
  },
  {
   "cell_type": "code",
   "execution_count": null,
   "id": "18228934-75cf-4e4c-9ee0-f39663489567",
   "metadata": {},
   "outputs": [],
   "source": []
  }
 ],
 "metadata": {
  "kernelspec": {
   "display_name": "Python 3 (ipykernel)",
   "language": "python",
   "name": "python3"
  },
  "language_info": {
   "codemirror_mode": {
    "name": "ipython",
    "version": 3
   },
   "file_extension": ".py",
   "mimetype": "text/x-python",
   "name": "python",
   "nbconvert_exporter": "python",
   "pygments_lexer": "ipython3",
   "version": "3.10.13"
  }
 },
 "nbformat": 4,
 "nbformat_minor": 5
}
