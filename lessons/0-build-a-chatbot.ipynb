{
 "cells": [
  {
   "cell_type": "markdown",
   "id": "f9c7efb4-502b-4988-b02c-c784e67dc80a",
   "metadata": {},
   "source": [
    "# Chatgpt Bot"
   ]
  },
  {
   "cell_type": "markdown",
   "id": "4bf1469b-35ba-4b2b-bd6b-84cbcb9dc68c",
   "metadata": {},
   "source": [
    "### Introduction"
   ]
  },
  {
   "cell_type": "markdown",
   "id": "f4375479-4bc2-4664-9e2a-a7538022e15a",
   "metadata": {},
   "source": [
    "In this lesson, we'll get started with the ChatGPT API.  We'll do so by building a small chatbot in Python.  \n",
    "\n",
    "Let's get started."
   ]
  },
  {
   "cell_type": "markdown",
   "id": "82a8a476-e2b7-4efc-9cd1-0987de3667d5",
   "metadata": {},
   "source": [
    "### Getting Setup"
   ]
  },
  {
   "cell_type": "markdown",
   "id": "f0388084-5586-4650-93b8-3a69bdb970ac",
   "metadata": {},
   "source": [
    "You can begin by going to OpenAI [here](https://openai.com/) and then click on the Login button in the top right (even if you don't have an account).  At that point either click login, or signup as needed."
   ]
  },
  {
   "cell_type": "markdown",
   "id": "3040b5e1-4bea-4e85-b6f3-868a97db34e8",
   "metadata": {},
   "source": [
    "From there, on the toolbar on the right, click on `Settings > Billing`."
   ]
  },
  {
   "cell_type": "markdown",
   "id": "9fb0d534-5893-444e-bf9b-2f919a7defcb",
   "metadata": {},
   "source": [
    "<img src=\"./add-credit.png\" width=\"60%\">"
   ]
  },
  {
   "cell_type": "markdown",
   "id": "11d3973d-6d70-4381-a866-16d0a9fdfa9c",
   "metadata": {},
   "source": [
    "And then you can click on the `Add credit to balance`, and submit payment information.  The minimum allocation ($5) is fine."
   ]
  },
  {
   "cell_type": "markdown",
   "id": "32b9ef59-c4e5-4ae6-b83a-87de3b1a4de8",
   "metadata": {},
   "source": [
    "From there, you can create your api key.  From the sidebar, click on `API keys`, and then `Create new secret key`."
   ]
  },
  {
   "cell_type": "markdown",
   "id": "053877fb-2978-4f70-9aa8-40da81a9fd48",
   "metadata": {},
   "source": [
    "<img src=\"./create-key.png\" width=\"50%\">"
   ]
  },
  {
   "cell_type": "markdown",
   "id": "3954357d-9e3e-4224-9542-c14ca334b6e9",
   "metadata": {},
   "source": [
    "Then copy down your API key."
   ]
  },
  {
   "cell_type": "markdown",
   "id": "04f13c7f-c4d6-4898-a533-7c06f402e66a",
   "metadata": {},
   "source": [
    "### Using the API"
   ]
  },
  {
   "cell_type": "markdown",
   "id": "fc388e4a-49e6-422b-8a6f-bf8915184284",
   "metadata": {},
   "source": [
    "Ok, now it's time to write some Python.  Install the openai library.\n",
    "\n",
    "`pip3 install openai`\n",
    "\n",
    "And then we can write the following."
   ]
  },
  {
   "cell_type": "markdown",
   "id": "4b1e2854-5673-40f5-9d85-38312ca5b818",
   "metadata": {},
   "source": [
    "```python\n",
    "from openai import OpenAI\n",
    "\n",
    "api_key = None # Fill this in here\n",
    "\n",
    "client = OpenAI(\n",
    "  api_key=api_key,\n",
    ")\n",
    "\n",
    "question_prompt = \"Why is the sky blue?\"\n",
    "\n",
    "completion = client.chat.completions.create(\n",
    "  model=\"gpt-3.5-turbo\",\n",
    "  messages=[\n",
    "    {\"role\": \"system\", \"content\": \"You are a helpful assistant.\"},\n",
    "    {\"role\": \"user\", \"content\": question_prompt}\n",
    "  ]\n",
    ")\n",
    "\n",
    "print(completion)\n",
    "```"
   ]
  },
  {
   "cell_type": "markdown",
   "id": "f8c57904-b428-4de2-82eb-79d6c2b2cc4f",
   "metadata": {},
   "source": [
    "So you can see how this works.  We first create a new `OpenAPI` client.\n",
    "\n",
    "```python\n",
    "client = OpenAI(\n",
    "  api_key=api_key,\n",
    ")\n",
    "```\n",
    "\n",
    "And then in the chat completions, we specify two arguments -- the llm model we will be using, and a list of dictionaries for the `messages`."
   ]
  },
  {
   "cell_type": "markdown",
   "id": "bc6d9b60-190e-48f6-89cd-b68b1ba32f9f",
   "metadata": {},
   "source": [
    "```python\n",
    "completion = client.chat.completions.create(\n",
    "  model=\"gpt-3.5-turbo\",\n",
    "  messages=[\n",
    "    {\"role\": \"system\", \"content\": \"You are a helpful assistant.\"},\n",
    "    {\"role\": \"user\", \"content\": question_prompt}\n",
    "  ]\n",
    ")\n",
    "```"
   ]
  },
  {
   "cell_type": "markdown",
   "id": "b168db49-f43a-4440-a1eb-5efc72b63e24",
   "metadata": {},
   "source": [
    "The messages contains the instructions for two different entities -- the system and the user.  For the system, we tell the system it's goal.  And then from the user, we submit our question.\n",
    "\n",
    "If you want the question to be dynamic, we can just change:\n",
    "\n",
    "`question_prompt = \"Why is the sky blue?\"`\n",
    "\n",
    "to\n",
    "\n",
    "`question_prompt = input(\"Submit your question\")`"
   ]
  },
  {
   "cell_type": "markdown",
   "id": "9241dc78-5b95-4776-9c54-32e0f4e81571",
   "metadata": {},
   "source": [
    "### Getting the response"
   ]
  },
  {
   "cell_type": "markdown",
   "id": "e6a0ca41-20bb-4eb5-9a17-c6b9eae54874",
   "metadata": {},
   "source": [
    "The return value from the code will be a chat completion, where a chat completion has many choices.  And each choice has the resulting option.  \n",
    "\n",
    "So to get the message content of the first choice, we would add code like the following."
   ]
  },
  {
   "cell_type": "code",
   "execution_count": null,
   "id": "baee9e2a-eb12-4f30-8f8c-10409bc9dc37",
   "metadata": {},
   "outputs": [],
   "source": [
    "completion.choices[0].messages.content"
   ]
  },
  {
   "cell_type": "markdown",
   "id": "8b42483b-3a34-4c2f-a011-2624dd8a288f",
   "metadata": {},
   "source": [
    "So this would return to us the first choice's content."
   ]
  },
  {
   "cell_type": "markdown",
   "id": "18775e82-1d26-41a0-9f94-9670e883c5ed",
   "metadata": {},
   "source": [
    "# Resources\n",
    "\n",
    "[McKay Wrigley](https://www.youtube.com/watch?v=JI2rmCII4fg&ab_channel=MckayWrigley)"
   ]
  },
  {
   "cell_type": "markdown",
   "id": "812c4bc8-9a8d-40a6-8f48-7eef103c8ffd",
   "metadata": {},
   "source": [
    "[OpenAI docs](https://platform.openai.com/docs/introduction)\n",
    "\n",
    "[api ref](https://platform.openai.com/docs/api-reference/chat/create?lang=python)"
   ]
  },
  {
   "cell_type": "markdown",
   "id": "880d950d-c878-4b01-8686-85b85cc6dce7",
   "metadata": {},
   "source": [
    "[OpenAI: Get api keys](https://platform.openai.com/api-keys)"
   ]
  }
 ],
 "metadata": {
  "kernelspec": {
   "display_name": "Python 3 (ipykernel)",
   "language": "python",
   "name": "python3"
  },
  "language_info": {
   "codemirror_mode": {
    "name": "ipython",
    "version": 3
   },
   "file_extension": ".py",
   "mimetype": "text/x-python",
   "name": "python",
   "nbconvert_exporter": "python",
   "pygments_lexer": "ipython3",
   "version": "3.10.13"
  }
 },
 "nbformat": 4,
 "nbformat_minor": 5
}
